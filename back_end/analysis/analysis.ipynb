{
 "cells": [
  {
   "cell_type": "code",
   "execution_count": 1,
   "metadata": {},
   "outputs": [],
   "source": [
    "import pandas as pd\n",
    "import matplotlib.pyplot as plt"
   ]
  },
  {
   "cell_type": "code",
   "execution_count": 5,
   "metadata": {},
   "outputs": [],
   "source": [
    "df = pd.read_csv('../../data/greek_gods_dataset.csv')\n",
    "colors = [\"#F5B7B1\", \"#AF7AC5\", \"#85C1E9\", \"#F5D3B3\", \"#A2D9CE\", \"#F9E79F\", \"#F6A5C0\"]\n",
    "\n"
   ]
  },
  {
   "cell_type": "code",
   "execution_count": 6,
   "metadata": {},
   "outputs": [
    {
     "data": {
      "text/html": [
       "<div>\n",
       "<style scoped>\n",
       "    .dataframe tbody tr th:only-of-type {\n",
       "        vertical-align: middle;\n",
       "    }\n",
       "\n",
       "    .dataframe tbody tr th {\n",
       "        vertical-align: top;\n",
       "    }\n",
       "\n",
       "    .dataframe thead th {\n",
       "        text-align: right;\n",
       "    }\n",
       "</style>\n",
       "<table border=\"1\" class=\"dataframe\">\n",
       "  <thead>\n",
       "    <tr style=\"text-align: right;\">\n",
       "      <th></th>\n",
       "      <th>name_english</th>\n",
       "      <th>name_greek</th>\n",
       "      <th>description</th>\n",
       "      <th>main_type</th>\n",
       "      <th>sub_type</th>\n",
       "    </tr>\n",
       "  </thead>\n",
       "  <tbody>\n",
       "    <tr>\n",
       "      <th>count</th>\n",
       "      <td>444</td>\n",
       "      <td>444</td>\n",
       "      <td>396</td>\n",
       "      <td>444</td>\n",
       "      <td>444</td>\n",
       "    </tr>\n",
       "    <tr>\n",
       "      <th>unique</th>\n",
       "      <td>432</td>\n",
       "      <td>442</td>\n",
       "      <td>395</td>\n",
       "      <td>3</td>\n",
       "      <td>6</td>\n",
       "    </tr>\n",
       "    <tr>\n",
       "      <th>top</th>\n",
       "      <td>Attis</td>\n",
       "      <td>Ζεύς</td>\n",
       "      <td>spirits of fighting and combat</td>\n",
       "      <td>god</td>\n",
       "      <td>god</td>\n",
       "    </tr>\n",
       "    <tr>\n",
       "      <th>freq</th>\n",
       "      <td>2</td>\n",
       "      <td>2</td>\n",
       "      <td>2</td>\n",
       "      <td>290</td>\n",
       "      <td>264</td>\n",
       "    </tr>\n",
       "  </tbody>\n",
       "</table>\n",
       "</div>"
      ],
      "text/plain": [
       "       name_english name_greek                     description main_type  \\\n",
       "count           444        444                             396       444   \n",
       "unique          432        442                             395         3   \n",
       "top           Attis       Ζεύς  spirits of fighting and combat       god   \n",
       "freq              2          2                               2       290   \n",
       "\n",
       "       sub_type  \n",
       "count       444  \n",
       "unique        6  \n",
       "top         god  \n",
       "freq        264  "
      ]
     },
     "execution_count": 6,
     "metadata": {},
     "output_type": "execute_result"
    }
   ],
   "source": [
    "df.describe()"
   ]
  },
  {
   "cell_type": "code",
   "execution_count": 7,
   "metadata": {},
   "outputs": [
    {
     "data": {
      "text/plain": [
       "4           Achlys\n",
       "5            Achos\n",
       "10       Adephagia\n",
       "11          Adikia\n",
       "17          Aergia\n",
       "21    Agathodaemon\n",
       "23            Agon\n",
       "24           Aidos\n",
       "25            Aisa\n",
       "27           Alala\n",
       "28         Alastor\n",
       "32        Aletheia\n",
       "34            Alke\n",
       "38       Amechania\n",
       "41        Anaideia\n",
       "42          Ananke\n",
       "44         Angelia\n",
       "46            Ania\n",
       "47         Anteros\n",
       "51           Apate\n",
       "Name: name_english, dtype: object"
      ]
     },
     "execution_count": 7,
     "metadata": {},
     "output_type": "execute_result"
    }
   ],
   "source": [
    "df[df[\"main_type\"] == \"personification\"][\"name_english\"].head(20)\n"
   ]
  },
  {
   "cell_type": "code",
   "execution_count": 8,
   "metadata": {},
   "outputs": [
    {
     "data": {
      "text/plain": [
       "144           Echo\n",
       "145       Eidothea\n",
       "146     Eileithyia\n",
       "150        Electra\n",
       "154         Empusa\n",
       "155       Enyalius\n",
       "156           Enyo\n",
       "158        Epiales\n",
       "159       Epidotes\n",
       "160       Epimedes\n",
       "161    Epimeliades\n",
       "163         Epione\n",
       "165         Erebus\n",
       "166       Eridanos\n",
       "168           Eros\n",
       "169           Ersa\n",
       "173       Eunostus\n",
       "176      Euronotus\n",
       "177        Eurotas\n",
       "178          Eurus\n",
       "Name: name_english, dtype: object"
      ]
     },
     "execution_count": 8,
     "metadata": {},
     "output_type": "execute_result"
    }
   ],
   "source": [
    "df[(df[\"main_type\"] == \"god\") & (df[\"name_english\"].str[0].str.lower() == \"e\")][\"name_english\"].head(20)\n",
    "\n"
   ]
  },
  {
   "cell_type": "code",
   "execution_count": 7,
   "metadata": {},
   "outputs": [
    {
     "data": {
      "image/png": "[encoded data removed]",
      "text/plain": [
       "<Figure size 800x800 with 1 Axes>"
      ]
     },
     "metadata": {},
     "output_type": "display_data"
    }
   ],
   "source": [
    "type_counts = df['main_type'].value_counts()\n",
    "\n",
    "type_percentages = type_counts / type_counts.sum() * 100\n",
    "\n",
    "plt.figure(figsize=(8, 8))\n",
    "\n",
    "plt.pie(type_percentages, labels=type_percentages.index,colors=colors, autopct='%1.1f%%', startangle=90)\n",
    "\n",
    "plt.title(\"Proportion des types de divinité dans la mythologie grec\")\n",
    "plt.axis('equal') \n",
    "plt.show()"
   ]
  },
  {
   "cell_type": "code",
   "execution_count": null,
   "metadata": {},
   "outputs": [],
   "source": [
    "''' \n",
    "On constate qu'il existe 3 types de divinité : les titans, les dieux, et les personnifications\n",
    "Sachant que dans l'ordre, il existe les titans qui ont créé les dieux, et les personnifications sont à part\n",
    "1er problème : il y a un trop grand nombre de dieu par rapport aux titans ou à la personnification \n",
    "donc il sera probable que l'entrainement du modèle y soit affecté\n",
    "'''"
   ]
  },
  {
   "cell_type": "code",
   "execution_count": 19,
   "metadata": {},
   "outputs": [
    {
     "data": {
      "image/png": "[encoded data removed]",
      "text/plain": [
       "<Figure size 800x800 with 1 Axes>"
      ]
     },
     "metadata": {},
     "output_type": "display_data"
    }
   ],
   "source": [
    "type_counts = df['sub_type'].value_counts()\n",
    "\n",
    "type_percentages = type_counts / type_counts.sum() * 100\n",
    "\n",
    "plt.figure(figsize=(8, 8))\n",
    "plt.pie(type_percentages, labels=type_percentages.index, colors=colors, autopct='%1.1f%%', startangle=90)\n",
    "\n",
    "plt.title(\"Proportion des sous-types de divinité dans la mythologie grec\")\n",
    "plt.axis('equal') \n",
    "plt.show()"
   ]
  },
  {
   "cell_type": "code",
   "execution_count": 17,
   "metadata": {},
   "outputs": [
    {
     "data": {
      "text/html": [
       "<div>\n",
       "<style scoped>\n",
       "    .dataframe tbody tr th:only-of-type {\n",
       "        vertical-align: middle;\n",
       "    }\n",
       "\n",
       "    .dataframe tbody tr th {\n",
       "        vertical-align: top;\n",
       "    }\n",
       "\n",
       "    .dataframe thead th {\n",
       "        text-align: right;\n",
       "    }\n",
       "</style>\n",
       "<table border=\"1\" class=\"dataframe\">\n",
       "  <thead>\n",
       "    <tr style=\"text-align: right;\">\n",
       "      <th></th>\n",
       "      <th>sub_type</th>\n",
       "      <th>count</th>\n",
       "    </tr>\n",
       "  </thead>\n",
       "  <tbody>\n",
       "    <tr>\n",
       "      <th>0</th>\n",
       "      <td>god</td>\n",
       "      <td>264</td>\n",
       "    </tr>\n",
       "    <tr>\n",
       "      <th>1</th>\n",
       "      <td>personification</td>\n",
       "      <td>127</td>\n",
       "    </tr>\n",
       "    <tr>\n",
       "      <th>2</th>\n",
       "      <td>olympian</td>\n",
       "      <td>15</td>\n",
       "    </tr>\n",
       "    <tr>\n",
       "      <th>3</th>\n",
       "      <td>other</td>\n",
       "      <td>15</td>\n",
       "    </tr>\n",
       "    <tr>\n",
       "      <th>4</th>\n",
       "      <td>major</td>\n",
       "      <td>12</td>\n",
       "    </tr>\n",
       "    <tr>\n",
       "      <th>5</th>\n",
       "      <td>primordial</td>\n",
       "      <td>11</td>\n",
       "    </tr>\n",
       "  </tbody>\n",
       "</table>\n",
       "</div>"
      ],
      "text/plain": [
       "          sub_type  count\n",
       "0              god    264\n",
       "1  personification    127\n",
       "2         olympian     15\n",
       "3            other     15\n",
       "4            major     12\n",
       "5       primordial     11"
      ]
     },
     "execution_count": 17,
     "metadata": {},
     "output_type": "execute_result"
    }
   ],
   "source": [
    "df['sub_type'].value_counts().reset_index()\n"
   ]
  },
  {
   "cell_type": "code",
   "execution_count": null,
   "metadata": {},
   "outputs": [],
   "source": [
    "''' \n",
    "2nd problème : \n",
    "la catégorie \"dieu\" est trop importante par rapport aux autres catégories de divinité, \n",
    "donc le modèle ne retournera presque jamais les \"petites\" catégories\n",
    "'''"
   ]
  },
  {
   "cell_type": "code",
   "execution_count": 3,
   "metadata": {},
   "outputs": [
    {
     "data": {
      "text/html": [
       "<div>\n",
       "<style scoped>\n",
       "    .dataframe tbody tr th:only-of-type {\n",
       "        vertical-align: middle;\n",
       "    }\n",
       "\n",
       "    .dataframe tbody tr th {\n",
       "        vertical-align: top;\n",
       "    }\n",
       "\n",
       "    .dataframe thead th {\n",
       "        text-align: right;\n",
       "    }\n",
       "</style>\n",
       "<table border=\"1\" class=\"dataframe\">\n",
       "  <thead>\n",
       "    <tr style=\"text-align: right;\">\n",
       "      <th></th>\n",
       "      <th>name_english</th>\n",
       "      <th>name_greek</th>\n",
       "      <th>description</th>\n",
       "      <th>main_type</th>\n",
       "      <th>sub_type</th>\n",
       "      <th>tokens</th>\n",
       "    </tr>\n",
       "  </thead>\n",
       "  <tbody>\n",
       "    <tr>\n",
       "      <th>0</th>\n",
       "      <td>Zeus</td>\n",
       "      <td>Ζεύς</td>\n",
       "      <td>King of the gods, ruler of Mount Olympus, and ...</td>\n",
       "      <td>god</td>\n",
       "      <td>olympian</td>\n",
       "      <td>[ zeu, s]</td>\n",
       "    </tr>\n",
       "    <tr>\n",
       "      <th>1</th>\n",
       "      <td>Aceso</td>\n",
       "      <td>Ἀκεσώ</td>\n",
       "      <td>goddess of the healing of wounds and the curin...</td>\n",
       "      <td>god</td>\n",
       "      <td>god</td>\n",
       "      <td>[a, ce, so]</td>\n",
       "    </tr>\n",
       "    <tr>\n",
       "      <th>2</th>\n",
       "      <td>Achelous</td>\n",
       "      <td>Αχέλους</td>\n",
       "      <td>NaN</td>\n",
       "      <td>god</td>\n",
       "      <td>god</td>\n",
       "      <td>[a, che, lou, s]</td>\n",
       "    </tr>\n",
       "    <tr>\n",
       "      <th>3</th>\n",
       "      <td>Acheron</td>\n",
       "      <td>Αχέρων</td>\n",
       "      <td>the river of woe</td>\n",
       "      <td>god</td>\n",
       "      <td>god</td>\n",
       "      <td>[a, che, ro, n]</td>\n",
       "    </tr>\n",
       "    <tr>\n",
       "      <th>4</th>\n",
       "      <td>Achlys</td>\n",
       "      <td>Ἀχλύς</td>\n",
       "      <td>spirit of the death-mist, personification of s...</td>\n",
       "      <td>personification</td>\n",
       "      <td>personification</td>\n",
       "      <td>[a, chly, s]</td>\n",
       "    </tr>\n",
       "    <tr>\n",
       "      <th>...</th>\n",
       "      <td>...</td>\n",
       "      <td>...</td>\n",
       "      <td>...</td>\n",
       "      <td>...</td>\n",
       "      <td>...</td>\n",
       "      <td>...</td>\n",
       "    </tr>\n",
       "    <tr>\n",
       "      <th>439</th>\n",
       "      <td>Uranus</td>\n",
       "      <td>Οὐρανός</td>\n",
       "      <td>Οὐρανός (Ouranós)</td>\n",
       "      <td>god</td>\n",
       "      <td>primordial</td>\n",
       "      <td>[u, ra, nu, s]</td>\n",
       "    </tr>\n",
       "    <tr>\n",
       "      <th>440</th>\n",
       "      <td>Zagreus</td>\n",
       "      <td>Ζαγρεύς</td>\n",
       "      <td>an underworld god, possibly a son of Zeus and ...</td>\n",
       "      <td>god</td>\n",
       "      <td>god</td>\n",
       "      <td>[za, greu, s]</td>\n",
       "    </tr>\n",
       "    <tr>\n",
       "      <th>441</th>\n",
       "      <td>Zelos</td>\n",
       "      <td>Ζῆλος</td>\n",
       "      <td>spirit of eager rivalry, emulation, envy, jeal...</td>\n",
       "      <td>personification</td>\n",
       "      <td>personification</td>\n",
       "      <td>[ze, lo, s]</td>\n",
       "    </tr>\n",
       "    <tr>\n",
       "      <th>442</th>\n",
       "      <td>Zephyrus</td>\n",
       "      <td>Ζέφυρος</td>\n",
       "      <td>god of the west wind</td>\n",
       "      <td>god</td>\n",
       "      <td>god</td>\n",
       "      <td>[ze, phy, ru, s]</td>\n",
       "    </tr>\n",
       "    <tr>\n",
       "      <th>443</th>\n",
       "      <td>Zeus</td>\n",
       "      <td>Ζεύς</td>\n",
       "      <td>King of Heaven and god of the sky, clouds, thu...</td>\n",
       "      <td>god</td>\n",
       "      <td>god</td>\n",
       "      <td>[zeu, s]</td>\n",
       "    </tr>\n",
       "  </tbody>\n",
       "</table>\n",
       "<p>444 rows × 6 columns</p>\n",
       "</div>"
      ],
      "text/plain": [
       "    name_english name_greek  \\\n",
       "0           Zeus       Ζεύς   \n",
       "1          Aceso      Ἀκεσώ   \n",
       "2       Achelous    Αχέλους   \n",
       "3        Acheron     Αχέρων   \n",
       "4         Achlys      Ἀχλύς   \n",
       "..           ...        ...   \n",
       "439       Uranus    Οὐρανός   \n",
       "440      Zagreus    Ζαγρεύς   \n",
       "441        Zelos      Ζῆλος   \n",
       "442     Zephyrus    Ζέφυρος   \n",
       "443         Zeus       Ζεύς   \n",
       "\n",
       "                                           description        main_type  \\\n",
       "0    King of the gods, ruler of Mount Olympus, and ...              god   \n",
       "1    goddess of the healing of wounds and the curin...              god   \n",
       "2                                                  NaN              god   \n",
       "3                                     the river of woe              god   \n",
       "4    spirit of the death-mist, personification of s...  personification   \n",
       "..                                                 ...              ...   \n",
       "439                                  Οὐρανός (Ouranós)              god   \n",
       "440  an underworld god, possibly a son of Zeus and ...              god   \n",
       "441  spirit of eager rivalry, emulation, envy, jeal...  personification   \n",
       "442                               god of the west wind              god   \n",
       "443  King of Heaven and god of the sky, clouds, thu...              god   \n",
       "\n",
       "            sub_type            tokens  \n",
       "0           olympian         [ zeu, s]  \n",
       "1                god       [a, ce, so]  \n",
       "2                god  [a, che, lou, s]  \n",
       "3                god   [a, che, ro, n]  \n",
       "4    personification      [a, chly, s]  \n",
       "..               ...               ...  \n",
       "439       primordial    [u, ra, nu, s]  \n",
       "440              god     [za, greu, s]  \n",
       "441  personification       [ze, lo, s]  \n",
       "442              god  [ze, phy, ru, s]  \n",
       "443              god          [zeu, s]  \n",
       "\n",
       "[444 rows x 6 columns]"
      ]
     },
     "execution_count": 3,
     "metadata": {},
     "output_type": "execute_result"
    }
   ],
   "source": [
    "''' \n",
    "Maintenant, du côté des noms en eux même, on remarque qu'ils sont trop peu, mais  un nom est composé de syllabes qui peuvent se ressembler entre plusieurs divinités.\n",
    "Pour faire différentes opérations et limiter l'impact du peu de nom récolté, nous allons découper ces derniers par syllabe, afin de mieux remarquer les tendances.\n",
    "'''\n",
    "def cut_name_to_syllabes(name):\n",
    "    voyelles = \"aeiouy\"\n",
    "    syllabes = []\n",
    "    syllabe = \"\"\n",
    "\n",
    "    for i, char in enumerate(name.lower()):\n",
    "        syllabe += char\n",
    "        if char in voyelles:\n",
    "            if i + 1 == len(name) or name[i + 1].lower() not in voyelles:\n",
    "                syllabes.append(syllabe)\n",
    "                syllabe = \"\" \n",
    "\n",
    "    if syllabe:\n",
    "        syllabes.append(syllabe)\n",
    "\n",
    "    return syllabes\n",
    "\n",
    "df['tokens'] = df['name_english'].apply(cut_name_to_syllabes)\n",
    "df"
   ]
  },
  {
   "cell_type": "code",
   "execution_count": 43,
   "metadata": {},
   "outputs": [
    {
     "data": {
      "text/plain": [
       "404"
      ]
     },
     "execution_count": 43,
     "metadata": {},
     "output_type": "execute_result"
    }
   ],
   "source": [
    "'''\n",
    "Maintenant, on peut chercher à compter le nombre de token, moins il y en a, et plus on pourra facilement les réutiliser\n",
    "'''\n",
    "all_tokens = [token for sublist in df['tokens'] for token in sublist]\n",
    "unique_tokens = set(all_tokens) \n",
    "num_unique_tokens = len(unique_tokens)\n",
    "num_unique_tokens\n",
    "\n",
    "# nous avons 404 syllabes uniques, à partir de ça nous pourrons faire des traitements sans se reposer sur des noms entiers, uniques par définition, et complexifiant le modèle inutilement\n"
   ]
  },
  {
   "cell_type": "code",
   "execution_count": null,
   "metadata": {},
   "outputs": [
    {
     "data": {
      "text/plain": [
       "1457"
      ]
     },
     "execution_count": 51,
     "metadata": {},
     "output_type": "execute_result"
    }
   ],
   "source": [
    "total_tokens = df['tokens'].apply(len).sum()\n",
    "total_tokens\n"
   ]
  },
  {
   "cell_type": "code",
   "execution_count": 58,
   "metadata": {},
   "outputs": [
    {
     "data": {
      "text/plain": [
       "count             444\n",
       "unique            432\n",
       "top       [a, tti, s]\n",
       "freq                2\n",
       "Name: tokens, dtype: object"
      ]
     },
     "execution_count": 58,
     "metadata": {},
     "output_type": "execute_result"
    }
   ],
   "source": [
    "df[(df[\"main_type\"] == \"god\") & (df[\"name_english\"].str[0].str.lower() == \"e\")][[\"name_english\", \"tokens\"]].head(20)\n",
    "\n",
    "df[\"tokens\"].describe()"
   ]
  }
 ],
 "metadata": {
  "kernelspec": {
   "display_name": "Python 3",
   "language": "python",
   "name": "python3"
  },
  "language_info": {
   "codemirror_mode": {
    "name": "ipython",
    "version": 3
   },
   "file_extension": ".py",
   "mimetype": "text/x-python",
   "name": "python",
   "nbconvert_exporter": "python",
   "pygments_lexer": "ipython3",
   "version": "3.11.7"
  }
 },
 "nbformat": 4,
 "nbformat_minor": 2
}
